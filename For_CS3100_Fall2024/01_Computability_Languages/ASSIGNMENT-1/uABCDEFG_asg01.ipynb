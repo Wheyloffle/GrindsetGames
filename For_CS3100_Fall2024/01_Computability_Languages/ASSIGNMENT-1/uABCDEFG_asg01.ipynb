{
  "cells": [
    {
      "cell_type": "markdown",
      "metadata": {
        "id": "gOJcNwa-9t-M"
      },
      "source": [
        "## A1 (Assignment 1) : See [THIS LINK](https://https://docs.google.com/document/d/1NNbLsD9EZcpXflEXN2qtMK-mpNyTOel5J4R7U1Tnir8/edit) for more info, including due-dates.\n",
        "\n",
        "### How to do the assignment and submit:\n",
        "\n",
        "* Most students clone this Git repo, make changes to their own copy of the stated .ipynb file, and then submit it as noted below\n",
        "* **Make sure that Artificial Intelligence (AI) assistance is turned-off before you do the assignment**\n",
        "  - Go to Tools -> Settings -> AI Assistance ->\n",
        "  - Uncheck \"Consented to use Generative AI Features\"\n",
        "  - Check \"Hide Generative AI Features\"\n",
        "* We are assuming that you are *not* taking help from Generative AI for doing the assignment. Why?\n",
        "  - We want you to learn the basics the classical way\n",
        "  - Later we may end up allowing this\n",
        "* Rename this file by filling your UNID digits in place of A thru G\n",
        "* Do the assignment, filling as required\n",
        "* When you think you've done it all, \"Restart Runtime and Run it All\" (option under \"Runtime\")\n",
        "* \"Download\" a .ipynb file (option under \"File\")\n",
        "* Print a .pdf (option under \"File\")\n",
        "* Submit both the .ipynb and .pdf files\n"
      ]
    },
    {
      "cell_type": "markdown",
      "source": [
        "### Usually these Import commands work (I make sure to include enough items). If that proves to be not the case, please message the instructor and TAs on Piazza"
      ],
      "metadata": {
        "id": "FPtlSGm5Bko4"
      }
    },
    {
      "cell_type": "code",
      "execution_count": null,
      "metadata": {
        "id": "4F8Z5eEX98j1"
      },
      "outputs": [],
      "source": [
        "#~~~~~~~~~~~~~~~~~~~~~~~~~~~~~~~~~~~~~~~~~~~~~~~~~~~~~~~\n",
        "import sys\n",
        "\n",
        "# -- Detect if in Own Install or in Colab\n",
        "try:\n",
        "    import google.colab\n",
        "    OWN_INSTALL = False\n",
        "except:\n",
        "    OWN_INSTALL = True\n",
        "\n",
        "if OWN_INSTALL:\n",
        "\n",
        "  #---- Leave these definitions ON if running on laptop\n",
        "  #---- Else turn OFF by putting them between ''' ... '''\n",
        "\n",
        "  sys.path[0:0] = ['../../../../..',  '../../../../../3rdparty',\n",
        "                   '../../../..',  '../../../../3rdparty',\n",
        "                   '../../..',     '../../../3rdparty',\n",
        "                   '../..',        '../../3rdparty',\n",
        "                   '..',           '../3rdparty' ]\n",
        "\n",
        "else: # In colab\n",
        "  ! if [ ! -d Jove ]; then git clone https://github.com/ganeshutah/Jove Jove; fi\n",
        "  sys.path.append('./Jove')\n",
        "  sys.path.append('./Jove/jove')\n",
        "\n",
        "# -- common imports --\n",
        "from jove.LangDef   import *\n",
        "#~~~~~~~~~~~~~~~~~~~~~~~~~~~~~~~~~~~~~~~~~~~~~~~~~~~~~~~"
      ]
    },
    {
      "cell_type": "markdown",
      "source": [
        "## Type Edit -> Clear All Outputs if you want to wipe out all the printouts so far"
      ],
      "metadata": {
        "id": "AB7ELH6v2FqQ"
      }
    },
    {
      "cell_type": "markdown",
      "source": [
        "## OVERVIEW OF ALL QUESTIONS"
      ],
      "metadata": {
        "id": "59HL8pyjPhZI"
      }
    },
    {
      "cell_type": "markdown",
      "source": [
        "--------------------------------------------------\n",
        "* (TA: ST) Question 1: Test understanding of some basic concepts of languages\n",
        " - 1(a): Defining truncated 'star's (star up to a certain size) (10\\% of total)\n",
        " - 1(b): Testing the DeMorgan's Law on simple languages (20\\% of total)\n",
        "\n",
        "* (TA: AK) Question 2: Exercises involving concatenation, intersection, and product  \n",
        " - 2(a): Finite set case (10\\% of total)\n",
        "   - 5\\% for 2(a)(i)\n",
        "   - 5\\% for 2(a)(ii)\n",
        " - 2(b): Infinite-set case (20\\% of total)\n",
        "\n",
        "* (TA: GH) Question 3: A set-builder to be  expressed in Python (35\\% of total)\n",
        "\n",
        "* (TA: AK) 5\\% of total for neat work\n",
        "\n",
        "We will put a 😃 before each cell where you have to fill an answer\n",
        "--------------------------------------------------"
      ],
      "metadata": {
        "id": "kmqGva1bPWH5"
      }
    },
    {
      "cell_type": "markdown",
      "metadata": {
        "id": "9AMcC5Fu-QZE"
      },
      "source": [
        "## 1(a)\n",
        "* You are given $\\Sigma=\\{a,b,c\\}$"
      ]
    },
    {
      "cell_type": "code",
      "execution_count": null,
      "metadata": {
        "id": "gg7liBdM_LYu"
      },
      "outputs": [],
      "source": [
        "Sigma = {'a', 'b', 'c'}"
      ]
    },
    {
      "cell_type": "markdown",
      "source": [
        "* Required to define $\\Sigma_4^*$ using Jove (refer to page 29 of our book)"
      ],
      "metadata": {
        "id": "-BsotersTakC"
      }
    },
    {
      "cell_type": "markdown",
      "source": [
        "😃"
      ],
      "metadata": {
        "id": "-8RNdEmFwIaa"
      }
    },
    {
      "cell_type": "code",
      "source": [
        "\n",
        "Sigma_4_Star = \"Define Sigma_4_Star here in Python using Jove functions\"\n"
      ],
      "metadata": {
        "id": "CNFmloEdTkPO"
      },
      "execution_count": null,
      "outputs": []
    },
    {
      "cell_type": "markdown",
      "source": [
        "###  We are going to test Sigma_4_Star well because its correctness affects later questions"
      ],
      "metadata": {
        "id": "-g8P854Htk5_"
      }
    },
    {
      "cell_type": "markdown",
      "source": [
        "### Cells for testing Sigma_4_Star are below. Please add missing details!"
      ],
      "metadata": {
        "id": "BarX5FB6vWWI"
      }
    },
    {
      "cell_type": "code",
      "source": [
        "temp4 = lint(Sigma_4_Star, lcomplem(lexp(Sigma, 4), Sigma, 4)). # This is removing a critical subset of Sigma_4_Star. What is that?\n",
        "temp3 = ...similarly remove an additional critical subset from temp4 ...\n",
        "temp2 =  ... from temp3 ...\n",
        "temp1 =  ... from temp2 ...\n",
        "temp0 =  ... from temp1 ..."
      ],
      "metadata": {
        "id": "j-LWwb7rvUe8"
      },
      "execution_count": null,
      "outputs": []
    },
    {
      "cell_type": "code",
      "source": [
        "# Million-dollar question: what is temp0 now?\n",
        "# If it is lphi() then Sigma_4_Star is correct\n",
        "if(temp0 == lphi()):\n",
        "  print(\"Your Definition of Sigma_4_Star is correct\")\n",
        "else:\n",
        "  print(\"Your Definition of Sigma_4_Star is NOT correct\")"
      ],
      "metadata": {
        "id": "-MJRhcxa2rEg"
      },
      "execution_count": null,
      "outputs": []
    },
    {
      "cell_type": "markdown",
      "source": [
        "### What is temp4 through temp0 achieving? Why is that a good test for Sigma_4_Star being correct?"
      ],
      "metadata": {
        "id": "piKpMuNDx53P"
      }
    },
    {
      "cell_type": "markdown",
      "source": [
        "😃"
      ],
      "metadata": {
        "id": "Cxw5IeG2xwjA"
      }
    },
    {
      "cell_type": "markdown",
      "source": [
        "Your Answer in one sentence here:"
      ],
      "metadata": {
        "id": "czQ_LzCuyHd9"
      }
    },
    {
      "cell_type": "markdown",
      "source": [
        "## 1(b)\n",
        "* You are to test DeMorgan's Law w.r.t. these two languages\n",
        "  -  $A = \\{a, \\varepsilon , bc\\}$\n",
        "  -  $B = \\{a, \\varepsilon, bba, ca\\}$\n",
        "\n",
        "* DeMorgan's Law says LHS = RHS where\n",
        "  - LHS = $\\overline{(A\\cup B)}$\n",
        "  - RHS = $\\overline{A} \\cap \\overline{B}$  \n",
        "\n",
        "* Test DeMorgan's Law in the universe $\\Sigma_4^*$"
      ],
      "metadata": {
        "id": "zR2BjGtUUBUh"
      }
    },
    {
      "cell_type": "markdown",
      "source": [
        "😃"
      ],
      "metadata": {
        "id": "bcCg3LG3yTA4"
      }
    },
    {
      "cell_type": "code",
      "source": [
        "A = \"Type the language A in Python\"\n",
        "\n",
        "\n",
        "B = \"Type the language B in Python\"\n"
      ],
      "metadata": {
        "id": "XyFMCLIPUDMQ"
      },
      "execution_count": null,
      "outputs": []
    },
    {
      "cell_type": "markdown",
      "source": [
        "😃"
      ],
      "metadata": {
        "id": "igLGzAXLyX4C"
      }
    },
    {
      "cell_type": "code",
      "source": [
        "# Try to define LHS in one line (or two lines max)\n",
        "LHS = \"Type LHS using Jove's functions lunion and lcomplem\"\n",
        "\n",
        "# Try to define RHS in one line (or two lines max)\n",
        "RHS = \"Type RHS using Jove's functions lint and lcomplem\"\n"
      ],
      "metadata": {
        "id": "b5qzO-xkUkAt"
      },
      "execution_count": null,
      "outputs": []
    },
    {
      "cell_type": "code",
      "source": [
        "# Million-dollar question: did DeMorgan's theorem prove to be true?\n",
        "Demorgan_Result = (LHS == RHS)\n",
        "if Demorgan_Result:\n",
        "  print(\"DeMorgan's Law holds\")\n",
        "else:\n",
        "  print(\"DeMorgan's Law does NOT hold.\")\n"
      ],
      "metadata": {
        "id": "29yVRYkH3xfP"
      },
      "execution_count": null,
      "outputs": []
    },
    {
      "cell_type": "markdown",
      "source": [
        "--------------------------------------------------"
      ],
      "metadata": {
        "id": "snUhYGCbq8eW"
      }
    },
    {
      "cell_type": "markdown",
      "metadata": {
        "id": "y5o6UjADq400"
      },
      "source": [
        "## 2(a)\n",
        "* You are given $\\Sigma=\\{a\\}$\n",
        "* You are to define two languages $L_1$ and $L_2$ of cardinality 2 each (cardinality means size -- returned by the 'len' function of Python)\n",
        "* Both languages must contain $\\varepsilon$\n",
        "* You are to choose the other entry in $L_1$ and $L_2$ such that\n",
        "  - (i) : The cardinality of $L_1 L_2$ is less than that of $L_1 \\times L_2$\n",
        "  - (ii) : The cardinality of $L_1 L_2$ is equal to that of $L_1 \\times L_2$"
      ]
    },
    {
      "cell_type": "code",
      "execution_count": null,
      "metadata": {
        "id": "RVobAB4yq40-"
      },
      "outputs": [],
      "source": [
        "Sigma = {'a'}"
      ]
    },
    {
      "cell_type": "markdown",
      "source": [
        "😃"
      ],
      "metadata": {
        "id": "u8x1h-p7ycJW"
      }
    },
    {
      "cell_type": "code",
      "source": [
        "L1_casei = \"Define your L1 here for achieving case 2ai\"\n",
        "\n",
        "\n",
        "L2_casei = \"Define your L2 here for achieving case 2ai\"\n"
      ],
      "metadata": {
        "id": "4RqKWPITq40-"
      },
      "execution_count": null,
      "outputs": []
    },
    {
      "cell_type": "markdown",
      "source": [
        "😃"
      ],
      "metadata": {
        "id": "xCGMJWB8yghs"
      }
    },
    {
      "cell_type": "code",
      "source": [
        "# Now add one code line below to check if L1 L2 is less than L1 x L2 in size\n",
        "\n",
        "Lcat_L1_L2_i = \"...\"\n",
        "\n",
        "\n",
        "Lprod_L1_L2_i = \"...\"\n",
        "\n",
        "\n",
        "# The final assignment must be made to the variable below\n",
        "# so that we can rely on the following print to check our work\n",
        "\n",
        "Result_for_case_2ai_holds = \"Fill this from the above calculations you make\"\n"
      ],
      "metadata": {
        "id": "y11Hi6V-6P3Z"
      },
      "execution_count": null,
      "outputs": []
    },
    {
      "cell_type": "code",
      "source": [
        "if Result_for_case_2ai_holds:\n",
        "  print(\"We made L1 and L2 such that case 2ai holds - which is correct\")\n",
        "else:\n",
        "  print(\"We made L1 and L2 such that case 2ai DOES NOT holds - which is incorrect\")"
      ],
      "metadata": {
        "id": "giYBpKV66uMl"
      },
      "execution_count": null,
      "outputs": []
    },
    {
      "cell_type": "markdown",
      "source": [
        "😃"
      ],
      "metadata": {
        "id": "kBNxYcc0ym64"
      }
    },
    {
      "cell_type": "markdown",
      "source": [
        "How did you achieve the size of L1 L2 being less than that of L1 x L2? One sentence.\n",
        "\n",
        "Answer: ...your answer..."
      ],
      "metadata": {
        "id": "s8r5K6R1ytBz"
      }
    },
    {
      "cell_type": "markdown",
      "source": [
        "## Now let,s do 2(a)(ii)"
      ],
      "metadata": {
        "id": "pKxma97Le73r"
      }
    },
    {
      "cell_type": "markdown",
      "source": [
        "😃"
      ],
      "metadata": {
        "id": "kdqNNnPAzIir"
      }
    },
    {
      "cell_type": "code",
      "source": [
        "L1_caseii = \"Define your L1 here for achieving case 2aii\"\n",
        "\n",
        "\n",
        "L2_caseii = \"Define your L2 here for achieving case 2aii\"\n",
        "\n"
      ],
      "metadata": {
        "id": "l0w54rWZe5O_"
      },
      "execution_count": null,
      "outputs": []
    },
    {
      "cell_type": "markdown",
      "source": [
        "😃"
      ],
      "metadata": {
        "id": "fpTDSylHzNFZ"
      }
    },
    {
      "cell_type": "code",
      "source": [
        "# Now add one code line below to check if L1 L2 is equal to L1 x L2 in size\n",
        "\n",
        "Lcat_L1_L2_ii = ...\n",
        "\n",
        "Lprod_L1_L2_ii = ...\n",
        "\n",
        "\n",
        "# The final assignment must be made to the variable below\n",
        "# so that we can rely on the following print to check our work\n",
        "\n",
        "Result_for_case_2aii_holds = \"Fill this from the above calculations you make\"\n",
        "\n"
      ],
      "metadata": {
        "id": "3XQHTNTJe5O_"
      },
      "execution_count": null,
      "outputs": []
    },
    {
      "cell_type": "code",
      "source": [
        "if Result_for_case_2aii_holds:\n",
        "  print(\"We made L1 and L2 such that case 2aii holds - which is correct\")\n",
        "else:\n",
        "  print(\"We made L1 and L2 such that case 2aii DOES NOT holds - which is incorrect\")"
      ],
      "metadata": {
        "id": "zLS92Oxle5PK"
      },
      "execution_count": null,
      "outputs": []
    },
    {
      "cell_type": "markdown",
      "source": [
        "😃"
      ],
      "metadata": {
        "id": "PCgd19PQzQsb"
      }
    },
    {
      "cell_type": "markdown",
      "source": [
        "How did you make L1 L2 have the same size as L1 x L2? One sentence.\n",
        "\n",
        "Answer: ...fill your answer..."
      ],
      "metadata": {
        "id": "Op2zCK37zS0m"
      }
    },
    {
      "cell_type": "markdown",
      "source": [
        "## 2(b) - This is a \"theory question\" where you have to fill the answer cell with the right selection while removing the incorrect selections\n",
        "\n",
        "* Let $E$ = the set of even-length strings over $\\Sigma=\\{0,1\\}$\n",
        "* Let $O$  = the set of odd-length strings over the same Sigma\n",
        "* Let $EO$ mean the concatenation of $E$ and $O$\n",
        "* and similarly for $EE$, $OE$, and $OO$"
      ],
      "metadata": {
        "id": "JQYgbkQVq40-"
      }
    },
    {
      "cell_type": "markdown",
      "source": [
        "### I'll make MANY statements.\n",
        "\n",
        "* For every correct statement, add \"CORRECT\" at the end\n",
        "* For every incorrect statement, add \"INCORRECT\" at the end\n",
        "* Fill the \"because\" clause that follows each statement\n",
        "* I will fill one answer for you"
      ],
      "metadata": {
        "id": "92vV-ueL-j4a"
      }
    },
    {
      "cell_type": "markdown",
      "source": [
        "# The part I'm doing for you"
      ],
      "metadata": {
        "id": "z5KWPnxH-5J8"
      }
    },
    {
      "cell_type": "markdown",
      "source": [
        "* $EO$ is not contained in $E$ [Correct!] <-- you wrote \"[Correct!]\" in your answer\n",
        "  - Because $E$ has $\\varepsilon$ but $EO$ does not have it <-- You wrote this reason"
      ],
      "metadata": {
        "id": "YFQ4iIoh_YC-"
      }
    },
    {
      "cell_type": "markdown",
      "source": [
        "## The part you are to do"
      ],
      "metadata": {
        "id": "ar8e8_SUAo1B"
      }
    },
    {
      "cell_type": "markdown",
      "source": [
        "😃"
      ],
      "metadata": {
        "id": "2eqyjbhLz7fs"
      }
    },
    {
      "cell_type": "markdown",
      "source": [
        "1. $EO$ is contained in $O$ ...write Correct/Incorrect here...\n",
        "   * It is ... because ...\n",
        "\n",
        "2. $EO$ is properly contained in $O$ ...write Correct/Incorrect here...\n",
        "   * It is ... because ...\n",
        "\n",
        "\n"
      ],
      "metadata": {
        "id": "xgSw4J9FAtFL"
      }
    },
    {
      "cell_type": "markdown",
      "metadata": {
        "id": "0q4IxOI8R-Vs"
      },
      "source": [
        "# Question 3"
      ]
    },
    {
      "cell_type": "markdown",
      "metadata": {
        "id": "hQd6gsQNqWE0"
      },
      "source": [
        "Consider the language below called $L_{if}$ (you can take a peek at Chapter 4 to see it discussed there)\n",
        "\n",
        " $L_{if}$ = $\\{$ $a^i b^j c^k  \\;:\\;$  ${\\rm if}\\;$ $(i==2)$\n",
        " $\\; {\\rm then} \\;$ $(j==k)$  $\\}$\n",
        "\n",
        "\n",
        "  \n",
        "\n",
        "**Task for you**:\n",
        "\n",
        "* [30% of the total] Define $L_{if}$ in Python. Limit $i,j,k$ to be in $\\{0, \\ldots, 4\\}$.\n",
        "  - Do it as follows:\n",
        "    - You should translate **if  P   then Q** to $(P \\Rightarrow Q)$\n",
        "    - $(P \\Rightarrow Q)$ is **P implies Q** and can be translated into a Boolean formula involving standard Boolean connectives such as **and**, **or**, and **not**; do that translation\n",
        "    - Then use a Python set comprehension\n",
        "\n",
        "* Print out the set $L_{if}$ via Python code.\n"
      ]
    },
    {
      "cell_type": "markdown",
      "source": [
        "😃"
      ],
      "metadata": {
        "id": "9QwL6E5K0Ewl"
      }
    },
    {
      "cell_type": "code",
      "source": [
        "def IfCond(i,j,k):\n",
        " return \"a formula involving i,j,k, and 2\""
      ],
      "metadata": {
        "id": "6dulf1cvkrGV"
      },
      "execution_count": null,
      "outputs": []
    },
    {
      "cell_type": "markdown",
      "source": [
        "😃"
      ],
      "metadata": {
        "id": "HFfmoPTs0QfP"
      }
    },
    {
      "cell_type": "code",
      "source": [
        "# Lif = ...\n",
        "\n",
        "Lif = \"...get ideas from the book and use if IfCond(...) inside the set builder\"\n"
      ],
      "metadata": {
        "id": "Gb_OUV-SkCAP"
      },
      "execution_count": null,
      "outputs": []
    },
    {
      "cell_type": "code",
      "source": [
        "Lif"
      ],
      "metadata": {
        "id": "Ldquqks9qH1r"
      },
      "execution_count": null,
      "outputs": []
    },
    {
      "cell_type": "markdown",
      "source": [
        "### Let us define the set TwoAs$\\{a^2 b^i c^j : 0\\leq i,j \\leq 4 \\}$, the set of strings with two a's followed by any number of b's and c's\n",
        " * We define it as a concatenation of {'aa'} with a set that lists b's followed by c's -- call it BCs\n"
      ],
      "metadata": {
        "id": "g_Msb3DCnAyw"
      }
    },
    {
      "cell_type": "markdown",
      "source": [
        "😃"
      ],
      "metadata": {
        "id": "mIYraQUg0sMl"
      }
    },
    {
      "cell_type": "code",
      "source": [
        "BCs = \"define a set of strings of b's followed by c's - abiding by the length constraints above\"\n",
        "TwoAs = \"define lcat({'aa'}, BCs)  \"\n"
      ],
      "metadata": {
        "id": "9ZZlfFxalpe9"
      },
      "execution_count": null,
      "outputs": []
    },
    {
      "cell_type": "markdown",
      "source": [
        "\n",
        "* Print out, via Python code that you write, the set of strings that are included in $L_{if}$ due to the condition $(i==2)$ being met. How many such strings are there?"
      ],
      "metadata": {
        "id": "Sw9Lf2njYmFf"
      }
    },
    {
      "cell_type": "markdown",
      "source": [
        "😃"
      ],
      "metadata": {
        "id": "8uUkFz3a0u2X"
      }
    },
    {
      "cell_type": "markdown",
      "source": [
        "### We are going to do lint(Lif, TwoAs) and check the results"
      ],
      "metadata": {
        "id": "fJdVl_fg0xzG"
      }
    },
    {
      "cell_type": "code",
      "source": [
        "lint(Lif, TwoAs)"
      ],
      "metadata": {
        "id": "edOmGuDTl1rR"
      },
      "execution_count": null,
      "outputs": []
    },
    {
      "cell_type": "markdown",
      "source": [
        "* Print out the above lint(..) result and justify that it is correct. In particular, make sure that when the number of a's is 2, all the required and correctly-ending b's and c's are appended to the two a's."
      ],
      "metadata": {
        "id": "hmuMo6v1l2Oq"
      }
    },
    {
      "cell_type": "markdown",
      "source": [
        "😃"
      ],
      "metadata": {
        "id": "ebeB8WL763a0"
      }
    },
    {
      "cell_type": "markdown",
      "source": [
        "## Justification that the above lint(..) is correct: ...write a sentence arguing that all the strings of b's and c's have been accounted for."
      ],
      "metadata": {
        "id": "5RV2nZcz65g7"
      }
    },
    {
      "cell_type": "markdown",
      "source": [
        "# END OF ASSIGNMENT 😃"
      ],
      "metadata": {
        "id": "7_ZsQgGj053r"
      }
    }
  ],
  "metadata": {
    "colab": {
      "provenance": []
    },
    "kernelspec": {
      "display_name": "Python 3 (ipykernel)",
      "language": "python",
      "name": "python3"
    },
    "language_info": {
      "codemirror_mode": {
        "name": "ipython",
        "version": 3
      },
      "file_extension": ".py",
      "mimetype": "text/x-python",
      "name": "python",
      "nbconvert_exporter": "python",
      "pygments_lexer": "ipython3",
      "version": "3.7.4"
    }
  },
  "nbformat": 4,
  "nbformat_minor": 0
}